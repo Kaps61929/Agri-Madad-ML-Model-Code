{
 "cells": [
  {
   "cell_type": "code",
   "execution_count": 1,
   "id": "97b9f667",
   "metadata": {},
   "outputs": [],
   "source": [
    "import pandas as pd \n",
    "import numpy as np"
   ]
  },
  {
   "cell_type": "code",
   "execution_count": 2,
   "id": "444746e5",
   "metadata": {},
   "outputs": [
    {
     "data": {
      "text/html": [
       "<div>\n",
       "<style scoped>\n",
       "    .dataframe tbody tr th:only-of-type {\n",
       "        vertical-align: middle;\n",
       "    }\n",
       "\n",
       "    .dataframe tbody tr th {\n",
       "        vertical-align: top;\n",
       "    }\n",
       "\n",
       "    .dataframe thead th {\n",
       "        text-align: right;\n",
       "    }\n",
       "</style>\n",
       "<table border=\"1\" class=\"dataframe\">\n",
       "  <thead>\n",
       "    <tr style=\"text-align: right;\">\n",
       "      <th></th>\n",
       "      <th>CROP TYPE</th>\n",
       "      <th>SOIL TYPE</th>\n",
       "      <th>REGION</th>\n",
       "      <th>WEATHER CONDITION</th>\n",
       "      <th>TEMP_MIN</th>\n",
       "      <th>TEMP_MAX</th>\n",
       "      <th>WATER REQUIREMENT</th>\n",
       "    </tr>\n",
       "  </thead>\n",
       "  <tbody>\n",
       "    <tr>\n",
       "      <th>0</th>\n",
       "      <td>POTATO</td>\n",
       "      <td>DRY</td>\n",
       "      <td>DESERT</td>\n",
       "      <td>NORMAL</td>\n",
       "      <td>10</td>\n",
       "      <td>20</td>\n",
       "      <td>8.500</td>\n",
       "    </tr>\n",
       "    <tr>\n",
       "      <th>1</th>\n",
       "      <td>POTATO</td>\n",
       "      <td>DRY</td>\n",
       "      <td>DESERT</td>\n",
       "      <td>SUNNY</td>\n",
       "      <td>10</td>\n",
       "      <td>20</td>\n",
       "      <td>10.000</td>\n",
       "    </tr>\n",
       "    <tr>\n",
       "      <th>2</th>\n",
       "      <td>POTATO</td>\n",
       "      <td>DRY</td>\n",
       "      <td>DESERT</td>\n",
       "      <td>WINDY</td>\n",
       "      <td>10</td>\n",
       "      <td>20</td>\n",
       "      <td>9.500</td>\n",
       "    </tr>\n",
       "    <tr>\n",
       "      <th>3</th>\n",
       "      <td>POTATO</td>\n",
       "      <td>DRY</td>\n",
       "      <td>DESERT</td>\n",
       "      <td>RAINY</td>\n",
       "      <td>10</td>\n",
       "      <td>20</td>\n",
       "      <td>0.500</td>\n",
       "    </tr>\n",
       "    <tr>\n",
       "      <th>4</th>\n",
       "      <td>POTATO</td>\n",
       "      <td>DRY</td>\n",
       "      <td>DESERT</td>\n",
       "      <td>NORMAL</td>\n",
       "      <td>20</td>\n",
       "      <td>30</td>\n",
       "      <td>9.500</td>\n",
       "    </tr>\n",
       "    <tr>\n",
       "      <th>...</th>\n",
       "      <td>...</td>\n",
       "      <td>...</td>\n",
       "      <td>...</td>\n",
       "      <td>...</td>\n",
       "      <td>...</td>\n",
       "      <td>...</td>\n",
       "      <td>...</td>\n",
       "    </tr>\n",
       "    <tr>\n",
       "      <th>763</th>\n",
       "      <td>ONION</td>\n",
       "      <td>WET</td>\n",
       "      <td>HUMID</td>\n",
       "      <td>RAINY</td>\n",
       "      <td>30</td>\n",
       "      <td>40</td>\n",
       "      <td>0.100</td>\n",
       "    </tr>\n",
       "    <tr>\n",
       "      <th>764</th>\n",
       "      <td>ONION</td>\n",
       "      <td>WET</td>\n",
       "      <td>HUMID</td>\n",
       "      <td>NORMAL</td>\n",
       "      <td>40</td>\n",
       "      <td>50</td>\n",
       "      <td>4.625</td>\n",
       "    </tr>\n",
       "    <tr>\n",
       "      <th>765</th>\n",
       "      <td>ONION</td>\n",
       "      <td>WET</td>\n",
       "      <td>HUMID</td>\n",
       "      <td>SUNNY</td>\n",
       "      <td>40</td>\n",
       "      <td>50</td>\n",
       "      <td>6.125</td>\n",
       "    </tr>\n",
       "    <tr>\n",
       "      <th>766</th>\n",
       "      <td>ONION</td>\n",
       "      <td>WET</td>\n",
       "      <td>HUMID</td>\n",
       "      <td>WINDY</td>\n",
       "      <td>40</td>\n",
       "      <td>50</td>\n",
       "      <td>5.625</td>\n",
       "    </tr>\n",
       "    <tr>\n",
       "      <th>767</th>\n",
       "      <td>ONION</td>\n",
       "      <td>WET</td>\n",
       "      <td>HUMID</td>\n",
       "      <td>RAINY</td>\n",
       "      <td>40</td>\n",
       "      <td>50</td>\n",
       "      <td>0.200</td>\n",
       "    </tr>\n",
       "  </tbody>\n",
       "</table>\n",
       "<p>768 rows × 7 columns</p>\n",
       "</div>"
      ],
      "text/plain": [
       "    CROP TYPE SOIL TYPE  REGION WEATHER CONDITION  TEMP_MIN  TEMP_MAX  \\\n",
       "0      POTATO       DRY  DESERT            NORMAL        10        20   \n",
       "1      POTATO       DRY  DESERT             SUNNY        10        20   \n",
       "2      POTATO       DRY  DESERT             WINDY        10        20   \n",
       "3      POTATO       DRY  DESERT             RAINY        10        20   \n",
       "4      POTATO       DRY  DESERT            NORMAL        20        30   \n",
       "..        ...       ...     ...               ...       ...       ...   \n",
       "763     ONION       WET   HUMID             RAINY        30        40   \n",
       "764     ONION       WET   HUMID            NORMAL        40        50   \n",
       "765     ONION       WET   HUMID             SUNNY        40        50   \n",
       "766     ONION       WET   HUMID             WINDY        40        50   \n",
       "767     ONION       WET   HUMID             RAINY        40        50   \n",
       "\n",
       "     WATER REQUIREMENT  \n",
       "0                8.500  \n",
       "1               10.000  \n",
       "2                9.500  \n",
       "3                0.500  \n",
       "4                9.500  \n",
       "..                 ...  \n",
       "763              0.100  \n",
       "764              4.625  \n",
       "765              6.125  \n",
       "766              5.625  \n",
       "767              0.200  \n",
       "\n",
       "[768 rows x 7 columns]"
      ]
     },
     "execution_count": 2,
     "metadata": {},
     "output_type": "execute_result"
    }
   ],
   "source": [
    "crops = pd.read_csv(\"../selected_crops_temp.csv\")\n",
    "crops"
   ]
  },
  {
   "cell_type": "code",
   "execution_count": 3,
   "id": "7e3009ff",
   "metadata": {},
   "outputs": [],
   "source": [
    "wheat = crops[crops[\"CROP TYPE\"] == \"WHEAT\"]"
   ]
  },
  {
   "cell_type": "code",
   "execution_count": 4,
   "id": "8fccdb8f",
   "metadata": {},
   "outputs": [
    {
     "data": {
      "text/html": [
       "<div>\n",
       "<style scoped>\n",
       "    .dataframe tbody tr th:only-of-type {\n",
       "        vertical-align: middle;\n",
       "    }\n",
       "\n",
       "    .dataframe tbody tr th {\n",
       "        vertical-align: top;\n",
       "    }\n",
       "\n",
       "    .dataframe thead th {\n",
       "        text-align: right;\n",
       "    }\n",
       "</style>\n",
       "<table border=\"1\" class=\"dataframe\">\n",
       "  <thead>\n",
       "    <tr style=\"text-align: right;\">\n",
       "      <th></th>\n",
       "      <th>CROP TYPE</th>\n",
       "      <th>SOIL TYPE</th>\n",
       "      <th>REGION</th>\n",
       "      <th>WEATHER CONDITION</th>\n",
       "      <th>TEMP_MIN</th>\n",
       "      <th>TEMP_MAX</th>\n",
       "      <th>WATER REQUIREMENT</th>\n",
       "    </tr>\n",
       "  </thead>\n",
       "  <tbody>\n",
       "    <tr>\n",
       "      <th>192</th>\n",
       "      <td>WHEAT</td>\n",
       "      <td>DRY</td>\n",
       "      <td>DESERT</td>\n",
       "      <td>NORMAL</td>\n",
       "      <td>10</td>\n",
       "      <td>20</td>\n",
       "      <td>10.54</td>\n",
       "    </tr>\n",
       "    <tr>\n",
       "      <th>193</th>\n",
       "      <td>WHEAT</td>\n",
       "      <td>DRY</td>\n",
       "      <td>DESERT</td>\n",
       "      <td>SUNNY</td>\n",
       "      <td>10</td>\n",
       "      <td>20</td>\n",
       "      <td>12.00</td>\n",
       "    </tr>\n",
       "    <tr>\n",
       "      <th>194</th>\n",
       "      <td>WHEAT</td>\n",
       "      <td>DRY</td>\n",
       "      <td>DESERT</td>\n",
       "      <td>WINDY</td>\n",
       "      <td>10</td>\n",
       "      <td>20</td>\n",
       "      <td>11.54</td>\n",
       "    </tr>\n",
       "    <tr>\n",
       "      <th>195</th>\n",
       "      <td>WHEAT</td>\n",
       "      <td>DRY</td>\n",
       "      <td>DESERT</td>\n",
       "      <td>RAINY</td>\n",
       "      <td>10</td>\n",
       "      <td>20</td>\n",
       "      <td>2.54</td>\n",
       "    </tr>\n",
       "    <tr>\n",
       "      <th>196</th>\n",
       "      <td>WHEAT</td>\n",
       "      <td>DRY</td>\n",
       "      <td>DESERT</td>\n",
       "      <td>NORMAL</td>\n",
       "      <td>20</td>\n",
       "      <td>30</td>\n",
       "      <td>11.50</td>\n",
       "    </tr>\n",
       "    <tr>\n",
       "      <th>...</th>\n",
       "      <td>...</td>\n",
       "      <td>...</td>\n",
       "      <td>...</td>\n",
       "      <td>...</td>\n",
       "      <td>...</td>\n",
       "      <td>...</td>\n",
       "      <td>...</td>\n",
       "    </tr>\n",
       "    <tr>\n",
       "      <th>379</th>\n",
       "      <td>WHEAT</td>\n",
       "      <td>WET</td>\n",
       "      <td>HUMID</td>\n",
       "      <td>RAINY</td>\n",
       "      <td>30</td>\n",
       "      <td>40</td>\n",
       "      <td>0.20</td>\n",
       "    </tr>\n",
       "    <tr>\n",
       "      <th>380</th>\n",
       "      <td>WHEAT</td>\n",
       "      <td>WET</td>\n",
       "      <td>HUMID</td>\n",
       "      <td>NORMAL</td>\n",
       "      <td>40</td>\n",
       "      <td>50</td>\n",
       "      <td>5.48</td>\n",
       "    </tr>\n",
       "    <tr>\n",
       "      <th>381</th>\n",
       "      <td>WHEAT</td>\n",
       "      <td>WET</td>\n",
       "      <td>HUMID</td>\n",
       "      <td>SUNNY</td>\n",
       "      <td>40</td>\n",
       "      <td>50</td>\n",
       "      <td>6.98</td>\n",
       "    </tr>\n",
       "    <tr>\n",
       "      <th>382</th>\n",
       "      <td>WHEAT</td>\n",
       "      <td>WET</td>\n",
       "      <td>HUMID</td>\n",
       "      <td>WINDY</td>\n",
       "      <td>40</td>\n",
       "      <td>50</td>\n",
       "      <td>6.48</td>\n",
       "    </tr>\n",
       "    <tr>\n",
       "      <th>383</th>\n",
       "      <td>WHEAT</td>\n",
       "      <td>WET</td>\n",
       "      <td>HUMID</td>\n",
       "      <td>RAINY</td>\n",
       "      <td>40</td>\n",
       "      <td>50</td>\n",
       "      <td>0.30</td>\n",
       "    </tr>\n",
       "  </tbody>\n",
       "</table>\n",
       "<p>192 rows × 7 columns</p>\n",
       "</div>"
      ],
      "text/plain": [
       "    CROP TYPE SOIL TYPE  REGION WEATHER CONDITION  TEMP_MIN  TEMP_MAX  \\\n",
       "192     WHEAT       DRY  DESERT            NORMAL        10        20   \n",
       "193     WHEAT       DRY  DESERT             SUNNY        10        20   \n",
       "194     WHEAT       DRY  DESERT             WINDY        10        20   \n",
       "195     WHEAT       DRY  DESERT             RAINY        10        20   \n",
       "196     WHEAT       DRY  DESERT            NORMAL        20        30   \n",
       "..        ...       ...     ...               ...       ...       ...   \n",
       "379     WHEAT       WET   HUMID             RAINY        30        40   \n",
       "380     WHEAT       WET   HUMID            NORMAL        40        50   \n",
       "381     WHEAT       WET   HUMID             SUNNY        40        50   \n",
       "382     WHEAT       WET   HUMID             WINDY        40        50   \n",
       "383     WHEAT       WET   HUMID             RAINY        40        50   \n",
       "\n",
       "     WATER REQUIREMENT  \n",
       "192              10.54  \n",
       "193              12.00  \n",
       "194              11.54  \n",
       "195               2.54  \n",
       "196              11.50  \n",
       "..                 ...  \n",
       "379               0.20  \n",
       "380               5.48  \n",
       "381               6.98  \n",
       "382               6.48  \n",
       "383               0.30  \n",
       "\n",
       "[192 rows x 7 columns]"
      ]
     },
     "execution_count": 4,
     "metadata": {},
     "output_type": "execute_result"
    }
   ],
   "source": [
    "wheat"
   ]
  },
  {
   "cell_type": "code",
   "execution_count": 5,
   "id": "b47b30ed",
   "metadata": {},
   "outputs": [
    {
     "data": {
      "text/plain": [
       "<bound method DataFrame.info of     CROP TYPE SOIL TYPE  REGION WEATHER CONDITION  TEMP_MIN  TEMP_MAX  \\\n",
       "192     WHEAT       DRY  DESERT            NORMAL        10        20   \n",
       "193     WHEAT       DRY  DESERT             SUNNY        10        20   \n",
       "194     WHEAT       DRY  DESERT             WINDY        10        20   \n",
       "195     WHEAT       DRY  DESERT             RAINY        10        20   \n",
       "196     WHEAT       DRY  DESERT            NORMAL        20        30   \n",
       "..        ...       ...     ...               ...       ...       ...   \n",
       "379     WHEAT       WET   HUMID             RAINY        30        40   \n",
       "380     WHEAT       WET   HUMID            NORMAL        40        50   \n",
       "381     WHEAT       WET   HUMID             SUNNY        40        50   \n",
       "382     WHEAT       WET   HUMID             WINDY        40        50   \n",
       "383     WHEAT       WET   HUMID             RAINY        40        50   \n",
       "\n",
       "     WATER REQUIREMENT  \n",
       "192              10.54  \n",
       "193              12.00  \n",
       "194              11.54  \n",
       "195               2.54  \n",
       "196              11.50  \n",
       "..                 ...  \n",
       "379               0.20  \n",
       "380               5.48  \n",
       "381               6.98  \n",
       "382               6.48  \n",
       "383               0.30  \n",
       "\n",
       "[192 rows x 7 columns]>"
      ]
     },
     "execution_count": 5,
     "metadata": {},
     "output_type": "execute_result"
    }
   ],
   "source": [
    "wheat.info"
   ]
  },
  {
   "cell_type": "code",
   "execution_count": 6,
   "id": "8e19a08b",
   "metadata": {},
   "outputs": [],
   "source": [
    "wheat = wheat.drop(\"CROP TYPE\", axis = 1)"
   ]
  },
  {
   "cell_type": "code",
   "execution_count": 7,
   "id": "ccc1fe0a",
   "metadata": {},
   "outputs": [],
   "source": [
    "wheat = wheat.reset_index()"
   ]
  },
  {
   "cell_type": "code",
   "execution_count": 8,
   "id": "2e1f2b11",
   "metadata": {},
   "outputs": [
    {
     "data": {
      "text/plain": [
       "index                0\n",
       "SOIL TYPE            0\n",
       "REGION               0\n",
       "WEATHER CONDITION    0\n",
       "TEMP_MIN             0\n",
       "TEMP_MAX             0\n",
       "WATER REQUIREMENT    0\n",
       "dtype: int64"
      ]
     },
     "execution_count": 8,
     "metadata": {},
     "output_type": "execute_result"
    }
   ],
   "source": [
    "wheat.isnull().sum()"
   ]
  },
  {
   "cell_type": "code",
   "execution_count": 9,
   "id": "c3ffc44a",
   "metadata": {},
   "outputs": [],
   "source": [
    "X = wheat.drop([\"WATER REQUIREMENT\", \"index\"], axis = 1)"
   ]
  },
  {
   "cell_type": "code",
   "execution_count": 10,
   "id": "6edf9155",
   "metadata": {},
   "outputs": [],
   "source": [
    "y = wheat[\"WATER REQUIREMENT\"]"
   ]
  },
  {
   "cell_type": "code",
   "execution_count": 11,
   "id": "32150fee",
   "metadata": {},
   "outputs": [
    {
     "data": {
      "text/html": [
       "<div>\n",
       "<style scoped>\n",
       "    .dataframe tbody tr th:only-of-type {\n",
       "        vertical-align: middle;\n",
       "    }\n",
       "\n",
       "    .dataframe tbody tr th {\n",
       "        vertical-align: top;\n",
       "    }\n",
       "\n",
       "    .dataframe thead th {\n",
       "        text-align: right;\n",
       "    }\n",
       "</style>\n",
       "<table border=\"1\" class=\"dataframe\">\n",
       "  <thead>\n",
       "    <tr style=\"text-align: right;\">\n",
       "      <th></th>\n",
       "      <th>SOIL TYPE</th>\n",
       "      <th>REGION</th>\n",
       "      <th>WEATHER CONDITION</th>\n",
       "      <th>TEMP_MIN</th>\n",
       "      <th>TEMP_MAX</th>\n",
       "    </tr>\n",
       "  </thead>\n",
       "  <tbody>\n",
       "    <tr>\n",
       "      <th>0</th>\n",
       "      <td>DRY</td>\n",
       "      <td>DESERT</td>\n",
       "      <td>NORMAL</td>\n",
       "      <td>10</td>\n",
       "      <td>20</td>\n",
       "    </tr>\n",
       "    <tr>\n",
       "      <th>1</th>\n",
       "      <td>DRY</td>\n",
       "      <td>DESERT</td>\n",
       "      <td>SUNNY</td>\n",
       "      <td>10</td>\n",
       "      <td>20</td>\n",
       "    </tr>\n",
       "    <tr>\n",
       "      <th>2</th>\n",
       "      <td>DRY</td>\n",
       "      <td>DESERT</td>\n",
       "      <td>WINDY</td>\n",
       "      <td>10</td>\n",
       "      <td>20</td>\n",
       "    </tr>\n",
       "    <tr>\n",
       "      <th>3</th>\n",
       "      <td>DRY</td>\n",
       "      <td>DESERT</td>\n",
       "      <td>RAINY</td>\n",
       "      <td>10</td>\n",
       "      <td>20</td>\n",
       "    </tr>\n",
       "    <tr>\n",
       "      <th>4</th>\n",
       "      <td>DRY</td>\n",
       "      <td>DESERT</td>\n",
       "      <td>NORMAL</td>\n",
       "      <td>20</td>\n",
       "      <td>30</td>\n",
       "    </tr>\n",
       "    <tr>\n",
       "      <th>...</th>\n",
       "      <td>...</td>\n",
       "      <td>...</td>\n",
       "      <td>...</td>\n",
       "      <td>...</td>\n",
       "      <td>...</td>\n",
       "    </tr>\n",
       "    <tr>\n",
       "      <th>187</th>\n",
       "      <td>WET</td>\n",
       "      <td>HUMID</td>\n",
       "      <td>RAINY</td>\n",
       "      <td>30</td>\n",
       "      <td>40</td>\n",
       "    </tr>\n",
       "    <tr>\n",
       "      <th>188</th>\n",
       "      <td>WET</td>\n",
       "      <td>HUMID</td>\n",
       "      <td>NORMAL</td>\n",
       "      <td>40</td>\n",
       "      <td>50</td>\n",
       "    </tr>\n",
       "    <tr>\n",
       "      <th>189</th>\n",
       "      <td>WET</td>\n",
       "      <td>HUMID</td>\n",
       "      <td>SUNNY</td>\n",
       "      <td>40</td>\n",
       "      <td>50</td>\n",
       "    </tr>\n",
       "    <tr>\n",
       "      <th>190</th>\n",
       "      <td>WET</td>\n",
       "      <td>HUMID</td>\n",
       "      <td>WINDY</td>\n",
       "      <td>40</td>\n",
       "      <td>50</td>\n",
       "    </tr>\n",
       "    <tr>\n",
       "      <th>191</th>\n",
       "      <td>WET</td>\n",
       "      <td>HUMID</td>\n",
       "      <td>RAINY</td>\n",
       "      <td>40</td>\n",
       "      <td>50</td>\n",
       "    </tr>\n",
       "  </tbody>\n",
       "</table>\n",
       "<p>192 rows × 5 columns</p>\n",
       "</div>"
      ],
      "text/plain": [
       "    SOIL TYPE  REGION WEATHER CONDITION  TEMP_MIN  TEMP_MAX\n",
       "0         DRY  DESERT            NORMAL        10        20\n",
       "1         DRY  DESERT             SUNNY        10        20\n",
       "2         DRY  DESERT             WINDY        10        20\n",
       "3         DRY  DESERT             RAINY        10        20\n",
       "4         DRY  DESERT            NORMAL        20        30\n",
       "..        ...     ...               ...       ...       ...\n",
       "187       WET   HUMID             RAINY        30        40\n",
       "188       WET   HUMID            NORMAL        40        50\n",
       "189       WET   HUMID             SUNNY        40        50\n",
       "190       WET   HUMID             WINDY        40        50\n",
       "191       WET   HUMID             RAINY        40        50\n",
       "\n",
       "[192 rows x 5 columns]"
      ]
     },
     "execution_count": 11,
     "metadata": {},
     "output_type": "execute_result"
    }
   ],
   "source": [
    "X"
   ]
  },
  {
   "cell_type": "code",
   "execution_count": 12,
   "id": "c2639cc6",
   "metadata": {},
   "outputs": [
    {
     "data": {
      "text/plain": [
       "0      10.54\n",
       "1      12.00\n",
       "2      11.54\n",
       "3       2.54\n",
       "4      11.50\n",
       "       ...  \n",
       "187     0.20\n",
       "188     5.48\n",
       "189     6.98\n",
       "190     6.48\n",
       "191     0.30\n",
       "Name: WATER REQUIREMENT, Length: 192, dtype: float64"
      ]
     },
     "execution_count": 12,
     "metadata": {},
     "output_type": "execute_result"
    }
   ],
   "source": [
    "y"
   ]
  },
  {
   "cell_type": "code",
   "execution_count": 13,
   "id": "985ad2fe",
   "metadata": {},
   "outputs": [],
   "source": [
    "from sklearn.model_selection import train_test_split\n",
    "X_train, X_test, y_train, y_test = train_test_split(X, y, test_size = 0.2)"
   ]
  },
  {
   "cell_type": "code",
   "execution_count": 14,
   "id": "994a440e",
   "metadata": {},
   "outputs": [
    {
     "name": "stderr",
     "output_type": "stream",
     "text": [
      "C:\\Users\\madan\\anaconda3\\lib\\site-packages\\sklearn\\preprocessing\\_encoders.py:868: FutureWarning: `sparse` was renamed to `sparse_output` in version 1.2 and will be removed in 1.4. `sparse_output` is ignored unless you leave `sparse` to its default value.\n",
      "  warnings.warn(\n"
     ]
    },
    {
     "data": {
      "text/plain": [
       "array([[ 0.,  1.,  0., ...,  1., 40., 50.],\n",
       "       [ 0.,  0.,  1., ...,  0., 40., 50.],\n",
       "       [ 0.,  0.,  1., ...,  0., 10., 20.],\n",
       "       ...,\n",
       "       [ 1.,  0.,  0., ...,  0., 10., 20.],\n",
       "       [ 0.,  0.,  1., ...,  1., 20., 30.],\n",
       "       [ 0.,  1.,  0., ...,  0., 40., 50.]])"
      ]
     },
     "execution_count": 14,
     "metadata": {},
     "output_type": "execute_result"
    }
   ],
   "source": [
    "from sklearn.preprocessing import OneHotEncoder\n",
    "from sklearn.compose import ColumnTransformer\n",
    "\n",
    "one = OneHotEncoder(handle_unknown = \"ignore\", sparse = False)\n",
    "categorical_features = [\"SOIL TYPE\", \"REGION\", \"WEATHER CONDITION\"]\n",
    "transformer = ColumnTransformer([(\"one\", one, categorical_features)], remainder = \"passthrough\")\n",
    "\n",
    "transformed_X_train = transformer.fit_transform(X_train)\n",
    "transformed_X_train"
   ]
  },
  {
   "cell_type": "code",
   "execution_count": 15,
   "id": "a0658302",
   "metadata": {},
   "outputs": [
    {
     "data": {
      "text/plain": [
       "(153, 13)"
      ]
     },
     "execution_count": 15,
     "metadata": {},
     "output_type": "execute_result"
    }
   ],
   "source": [
    "transformed_X_train.shape"
   ]
  },
  {
   "cell_type": "code",
   "execution_count": 16,
   "id": "968a3e79",
   "metadata": {},
   "outputs": [
    {
     "data": {
      "text/plain": [
       "DRY      64\n",
       "HUMID    64\n",
       "WET      64\n",
       "Name: SOIL TYPE, dtype: int64"
      ]
     },
     "execution_count": 16,
     "metadata": {},
     "output_type": "execute_result"
    }
   ],
   "source": [
    "X[\"SOIL TYPE\"].value_counts()"
   ]
  },
  {
   "cell_type": "code",
   "execution_count": 17,
   "id": "0aa8d7e7",
   "metadata": {},
   "outputs": [],
   "source": [
    "transformed_X_test = transformer.transform(X_test)"
   ]
  },
  {
   "cell_type": "code",
   "execution_count": 18,
   "id": "4e7edddb",
   "metadata": {},
   "outputs": [
    {
     "data": {
      "text/plain": [
       "(39, 13)"
      ]
     },
     "execution_count": 18,
     "metadata": {},
     "output_type": "execute_result"
    }
   ],
   "source": [
    "transformed_X_test.shape"
   ]
  },
  {
   "cell_type": "code",
   "execution_count": 19,
   "id": "cca5b6d8",
   "metadata": {},
   "outputs": [
    {
     "data": {
      "text/plain": [
       "97.18305525858361"
      ]
     },
     "execution_count": 19,
     "metadata": {},
     "output_type": "execute_result"
    }
   ],
   "source": [
    "from sklearn.ensemble import RandomForestRegressor\n",
    "model = RandomForestRegressor()\n",
    "model.fit(transformed_X_train, y_train)\n",
    "model.score(transformed_X_test, y_test)*100"
   ]
  },
  {
   "cell_type": "code",
   "execution_count": 20,
   "id": "b476b57d",
   "metadata": {},
   "outputs": [
    {
     "data": {
      "text/plain": [
       "array([ 2.8715, 10.969 , 11.4215,  6.851 , 11.2825,  6.3297,  1.6641,\n",
       "        6.0509,  5.7291,  2.5856, 11.24  ,  7.1715,  8.9954,  0.294 ,\n",
       "        0.343 ,  8.864 ,  8.8693,  4.1609,  0.6234, 11.2466,  8.1416,\n",
       "       12.707 ,  1.1471, 11.5471,  7.6647,  7.7189,  7.2566,  8.157 ,\n",
       "       10.1362, 12.0455, 10.8207,  9.6873,  1.6276,  8.4347,  9.0956,\n",
       "       11.9407,  8.6953, 12.192 , 11.084 ])"
      ]
     },
     "execution_count": 20,
     "metadata": {},
     "output_type": "execute_result"
    }
   ],
   "source": [
    "y_preds = model.predict(transformed_X_test)\n",
    "y_preds"
   ]
  },
  {
   "cell_type": "code",
   "execution_count": 21,
   "id": "5ce33165",
   "metadata": {},
   "outputs": [
    {
     "data": {
      "text/plain": [
       "0.4387789733333338"
      ]
     },
     "execution_count": 21,
     "metadata": {},
     "output_type": "execute_result"
    }
   ],
   "source": [
    "from sklearn.metrics import mean_squared_error\n",
    "mse = mean_squared_error(y_test, y_preds)\n",
    "mse"
   ]
  },
  {
   "cell_type": "code",
   "execution_count": 22,
   "id": "7a4a0e04",
   "metadata": {},
   "outputs": [
    {
     "data": {
      "text/plain": [
       "0.5660358974358979"
      ]
     },
     "execution_count": 22,
     "metadata": {},
     "output_type": "execute_result"
    }
   ],
   "source": [
    "from sklearn.metrics import mean_absolute_error\n",
    "mae = mean_absolute_error(y_test, y_preds)\n",
    "mae"
   ]
  },
  {
   "cell_type": "code",
   "execution_count": 23,
   "id": "bae4a51d",
   "metadata": {},
   "outputs": [
    {
     "data": {
      "text/plain": [
       "0.9718305525858361"
      ]
     },
     "execution_count": 23,
     "metadata": {},
     "output_type": "execute_result"
    }
   ],
   "source": [
    "from sklearn.metrics import r2_score\n",
    "score = r2_score(y_test, y_preds)\n",
    "score"
   ]
  },
  {
   "cell_type": "code",
   "execution_count": 24,
   "id": "760c461b",
   "metadata": {},
   "outputs": [
    {
     "data": {
      "text/plain": [
       "0.9571824399304708"
      ]
     },
     "execution_count": 24,
     "metadata": {},
     "output_type": "execute_result"
    }
   ],
   "source": [
    "adjusted_r2 = 1 - (1-score)*(len(y_test)-1)/(len(y_test)-transformed_X_test.shape[1]-1)\n",
    "adjusted_r2"
   ]
  },
  {
   "cell_type": "code",
   "execution_count": 25,
   "id": "47967748",
   "metadata": {},
   "outputs": [
    {
     "data": {
      "text/plain": [
       "97.27081492687365"
      ]
     },
     "execution_count": 25,
     "metadata": {},
     "output_type": "execute_result"
    }
   ],
   "source": [
    "## with linear regression\n",
    "from sklearn.linear_model import Ridge\n",
    "\n",
    "ridgeModel = Ridge()\n",
    "ridgeModel.fit(transformed_X_train, y_train)\n",
    "ridgeModel.score(transformed_X_test, y_test)*100"
   ]
  },
  {
   "cell_type": "code",
   "execution_count": 26,
   "id": "c10e4074",
   "metadata": {},
   "outputs": [
    {
     "data": {
      "text/plain": [
       "4.123899873339665"
      ]
     },
     "execution_count": 26,
     "metadata": {},
     "output_type": "execute_result"
    }
   ],
   "source": [
    "## with SVM\n",
    "from sklearn.svm import SVR\n",
    "svmModel = SVR()\n",
    "svmModel.fit(transformed_X_train, y_train)\n",
    "svmModel.score(transformed_X_test, y_test)*100"
   ]
  },
  {
   "cell_type": "code",
   "execution_count": 27,
   "id": "8a502e84",
   "metadata": {},
   "outputs": [
    {
     "data": {
      "text/plain": [
       "-0.023935759902197207"
      ]
     },
     "execution_count": 27,
     "metadata": {},
     "output_type": "execute_result"
    }
   ],
   "source": [
    "## with nuSVM\n",
    "from sklearn.svm import NuSVR\n",
    "nuSVMModel = NuSVR()\n",
    "nuSVMModel.fit(transformed_X_train, y_train)\n",
    "nuSVMModel.score(transformed_X_test, y_test)"
   ]
  },
  {
   "cell_type": "code",
   "execution_count": 28,
   "id": "438520be",
   "metadata": {},
   "outputs": [],
   "source": [
    "temp = [\"DRY\", \"DESERT\", \"WINDY\", 35, 55]"
   ]
  },
  {
   "cell_type": "code",
   "execution_count": 29,
   "id": "827fefc5",
   "metadata": {},
   "outputs": [
    {
     "data": {
      "text/plain": [
       "array(['DRY', 'DESERT', 'WINDY', '35', '55'], dtype='<U11')"
      ]
     },
     "execution_count": 29,
     "metadata": {},
     "output_type": "execute_result"
    }
   ],
   "source": [
    "temp = np.array(temp)\n",
    "temp"
   ]
  },
  {
   "cell_type": "code",
   "execution_count": 30,
   "id": "91ccbdae",
   "metadata": {},
   "outputs": [
    {
     "data": {
      "text/plain": [
       "(1, 5)"
      ]
     },
     "execution_count": 30,
     "metadata": {},
     "output_type": "execute_result"
    }
   ],
   "source": [
    "temp = temp.reshape(1, -1)\n",
    "temp.shape"
   ]
  },
  {
   "cell_type": "code",
   "execution_count": 31,
   "id": "034ba037",
   "metadata": {},
   "outputs": [
    {
     "data": {
      "text/plain": [
       "str"
      ]
     },
     "execution_count": 31,
     "metadata": {},
     "output_type": "execute_result"
    }
   ],
   "source": [
    "temp_df = pd.DataFrame(temp, columns = X.columns )\n",
    "val = temp_df[\"SOIL TYPE\"][0]\n",
    "type(val)"
   ]
  },
  {
   "cell_type": "code",
   "execution_count": 32,
   "id": "ff82baf4",
   "metadata": {},
   "outputs": [
    {
     "data": {
      "text/plain": [
       "(1, 13)"
      ]
     },
     "execution_count": 32,
     "metadata": {},
     "output_type": "execute_result"
    }
   ],
   "source": [
    "transformed_temp = transformer.transform(temp_df)\n",
    "transformed_temp.shape"
   ]
  },
  {
   "cell_type": "code",
   "execution_count": 33,
   "id": "136dde9f",
   "metadata": {},
   "outputs": [
    {
     "data": {
      "text/plain": [
       "Index(['SOIL TYPE', 'REGION', 'WEATHER CONDITION', 'TEMP_MIN', 'TEMP_MAX'], dtype='object')"
      ]
     },
     "execution_count": 33,
     "metadata": {},
     "output_type": "execute_result"
    }
   ],
   "source": [
    "X.columns"
   ]
  },
  {
   "cell_type": "code",
   "execution_count": 34,
   "id": "27bd40be",
   "metadata": {},
   "outputs": [
    {
     "data": {
      "text/plain": [
       "array([13.7747])"
      ]
     },
     "execution_count": 34,
     "metadata": {},
     "output_type": "execute_result"
    }
   ],
   "source": [
    "temp_preds = model.predict(transformed_temp)\n",
    "temp_preds"
   ]
  },
  {
   "cell_type": "code",
   "execution_count": 35,
   "id": "a6e778f7",
   "metadata": {},
   "outputs": [],
   "source": [
    "## pickling \n",
    "import pickle"
   ]
  },
  {
   "cell_type": "code",
   "execution_count": 36,
   "id": "9bdd5d55",
   "metadata": {},
   "outputs": [],
   "source": [
    "pickle.dump(model, open(\"wheat_model.pkl\", \"wb\"))"
   ]
  },
  {
   "cell_type": "code",
   "execution_count": 37,
   "id": "be519d6d",
   "metadata": {},
   "outputs": [],
   "source": [
    "pickle.dump(transformer, open(\"wheat_transformer.pkl\", \"wb\"))"
   ]
  },
  {
   "cell_type": "code",
   "execution_count": null,
   "id": "bf5b032e",
   "metadata": {},
   "outputs": [],
   "source": []
  },
  {
   "cell_type": "code",
   "execution_count": null,
   "id": "ce565372",
   "metadata": {},
   "outputs": [],
   "source": []
  }
 ],
 "metadata": {
  "kernelspec": {
   "display_name": "Python 3 (ipykernel)",
   "language": "python",
   "name": "python3"
  },
  "language_info": {
   "codemirror_mode": {
    "name": "ipython",
    "version": 3
   },
   "file_extension": ".py",
   "mimetype": "text/x-python",
   "name": "python",
   "nbconvert_exporter": "python",
   "pygments_lexer": "ipython3",
   "version": "3.9.16"
  }
 },
 "nbformat": 4,
 "nbformat_minor": 5
}
