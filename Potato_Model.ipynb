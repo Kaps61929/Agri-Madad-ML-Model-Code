{
 "cells": [
  {
   "cell_type": "code",
   "execution_count": 7,
   "id": "77c70625",
   "metadata": {},
   "outputs": [],
   "source": [
    "import numpy as np \n",
    "import pandas as pd"
   ]
  },
  {
   "cell_type": "code",
   "execution_count": 8,
   "id": "552b4a4e",
   "metadata": {},
   "outputs": [
    {
     "data": {
      "text/html": [
       "<div>\n",
       "<style scoped>\n",
       "    .dataframe tbody tr th:only-of-type {\n",
       "        vertical-align: middle;\n",
       "    }\n",
       "\n",
       "    .dataframe tbody tr th {\n",
       "        vertical-align: top;\n",
       "    }\n",
       "\n",
       "    .dataframe thead th {\n",
       "        text-align: right;\n",
       "    }\n",
       "</style>\n",
       "<table border=\"1\" class=\"dataframe\">\n",
       "  <thead>\n",
       "    <tr style=\"text-align: right;\">\n",
       "      <th></th>\n",
       "      <th>CROP TYPE</th>\n",
       "      <th>SOIL TYPE</th>\n",
       "      <th>REGION</th>\n",
       "      <th>WEATHER CONDITION</th>\n",
       "      <th>TEMP_MIN</th>\n",
       "      <th>TEMP_MAX</th>\n",
       "      <th>WATER REQUIREMENT</th>\n",
       "    </tr>\n",
       "  </thead>\n",
       "  <tbody>\n",
       "    <tr>\n",
       "      <th>0</th>\n",
       "      <td>POTATO</td>\n",
       "      <td>DRY</td>\n",
       "      <td>DESERT</td>\n",
       "      <td>NORMAL</td>\n",
       "      <td>10</td>\n",
       "      <td>20</td>\n",
       "      <td>8.5</td>\n",
       "    </tr>\n",
       "    <tr>\n",
       "      <th>1</th>\n",
       "      <td>POTATO</td>\n",
       "      <td>DRY</td>\n",
       "      <td>DESERT</td>\n",
       "      <td>SUNNY</td>\n",
       "      <td>10</td>\n",
       "      <td>20</td>\n",
       "      <td>10.0</td>\n",
       "    </tr>\n",
       "    <tr>\n",
       "      <th>2</th>\n",
       "      <td>POTATO</td>\n",
       "      <td>DRY</td>\n",
       "      <td>DESERT</td>\n",
       "      <td>WINDY</td>\n",
       "      <td>10</td>\n",
       "      <td>20</td>\n",
       "      <td>9.5</td>\n",
       "    </tr>\n",
       "    <tr>\n",
       "      <th>3</th>\n",
       "      <td>POTATO</td>\n",
       "      <td>DRY</td>\n",
       "      <td>DESERT</td>\n",
       "      <td>RAINY</td>\n",
       "      <td>10</td>\n",
       "      <td>20</td>\n",
       "      <td>0.5</td>\n",
       "    </tr>\n",
       "    <tr>\n",
       "      <th>4</th>\n",
       "      <td>POTATO</td>\n",
       "      <td>DRY</td>\n",
       "      <td>DESERT</td>\n",
       "      <td>NORMAL</td>\n",
       "      <td>20</td>\n",
       "      <td>30</td>\n",
       "      <td>9.5</td>\n",
       "    </tr>\n",
       "  </tbody>\n",
       "</table>\n",
       "</div>"
      ],
      "text/plain": [
       "  CROP TYPE SOIL TYPE  REGION WEATHER CONDITION  TEMP_MIN  TEMP_MAX  \\\n",
       "0    POTATO       DRY  DESERT            NORMAL        10        20   \n",
       "1    POTATO       DRY  DESERT             SUNNY        10        20   \n",
       "2    POTATO       DRY  DESERT             WINDY        10        20   \n",
       "3    POTATO       DRY  DESERT             RAINY        10        20   \n",
       "4    POTATO       DRY  DESERT            NORMAL        20        30   \n",
       "\n",
       "   WATER REQUIREMENT  \n",
       "0                8.5  \n",
       "1               10.0  \n",
       "2                9.5  \n",
       "3                0.5  \n",
       "4                9.5  "
      ]
     },
     "execution_count": 8,
     "metadata": {},
     "output_type": "execute_result"
    }
   ],
   "source": [
    "crops = pd.read_csv(\"selected_crops_temp.csv\")\n",
    "potato_crop = crops.loc[crops[\"CROP TYPE\"] == \"POTATO\"]\n",
    "potato_crop.head()"
   ]
  },
  {
   "cell_type": "code",
   "execution_count": 9,
   "id": "6d94d3dd",
   "metadata": {},
   "outputs": [
    {
     "name": "stdout",
     "output_type": "stream",
     "text": [
      "<class 'pandas.core.frame.DataFrame'>\n",
      "Int64Index: 192 entries, 0 to 191\n",
      "Data columns (total 7 columns):\n",
      " #   Column             Non-Null Count  Dtype  \n",
      "---  ------             --------------  -----  \n",
      " 0   CROP TYPE          192 non-null    object \n",
      " 1   SOIL TYPE          192 non-null    object \n",
      " 2   REGION             192 non-null    object \n",
      " 3   WEATHER CONDITION  192 non-null    object \n",
      " 4   TEMP_MIN           192 non-null    int64  \n",
      " 5   TEMP_MAX           192 non-null    int64  \n",
      " 6   WATER REQUIREMENT  192 non-null    float64\n",
      "dtypes: float64(1), int64(2), object(4)\n",
      "memory usage: 12.0+ KB\n"
     ]
    }
   ],
   "source": [
    "potato_crop.info()"
   ]
  },
  {
   "cell_type": "code",
   "execution_count": 10,
   "id": "0cc928c3",
   "metadata": {},
   "outputs": [
    {
     "data": {
      "text/plain": [
       "CROP TYPE            0\n",
       "SOIL TYPE            0\n",
       "REGION               0\n",
       "WEATHER CONDITION    0\n",
       "TEMP_MIN             0\n",
       "TEMP_MAX             0\n",
       "WATER REQUIREMENT    0\n",
       "dtype: int64"
      ]
     },
     "execution_count": 10,
     "metadata": {},
     "output_type": "execute_result"
    }
   ],
   "source": [
    "potato_crop.isnull().sum()"
   ]
  },
  {
   "cell_type": "code",
   "execution_count": 11,
   "id": "befecb1a",
   "metadata": {},
   "outputs": [],
   "source": [
    "potato_crop = potato_crop.drop(\"CROP TYPE\", axis = 1)"
   ]
  },
  {
   "cell_type": "code",
   "execution_count": 12,
   "id": "b6cfddb9",
   "metadata": {},
   "outputs": [
    {
     "data": {
      "text/html": [
       "<div>\n",
       "<style scoped>\n",
       "    .dataframe tbody tr th:only-of-type {\n",
       "        vertical-align: middle;\n",
       "    }\n",
       "\n",
       "    .dataframe tbody tr th {\n",
       "        vertical-align: top;\n",
       "    }\n",
       "\n",
       "    .dataframe thead th {\n",
       "        text-align: right;\n",
       "    }\n",
       "</style>\n",
       "<table border=\"1\" class=\"dataframe\">\n",
       "  <thead>\n",
       "    <tr style=\"text-align: right;\">\n",
       "      <th></th>\n",
       "      <th>SOIL TYPE</th>\n",
       "      <th>REGION</th>\n",
       "      <th>WEATHER CONDITION</th>\n",
       "      <th>TEMP_MIN</th>\n",
       "      <th>TEMP_MAX</th>\n",
       "      <th>WATER REQUIREMENT</th>\n",
       "    </tr>\n",
       "  </thead>\n",
       "  <tbody>\n",
       "    <tr>\n",
       "      <th>0</th>\n",
       "      <td>DRY</td>\n",
       "      <td>DESERT</td>\n",
       "      <td>NORMAL</td>\n",
       "      <td>10</td>\n",
       "      <td>20</td>\n",
       "      <td>8.5</td>\n",
       "    </tr>\n",
       "    <tr>\n",
       "      <th>1</th>\n",
       "      <td>DRY</td>\n",
       "      <td>DESERT</td>\n",
       "      <td>SUNNY</td>\n",
       "      <td>10</td>\n",
       "      <td>20</td>\n",
       "      <td>10.0</td>\n",
       "    </tr>\n",
       "    <tr>\n",
       "      <th>2</th>\n",
       "      <td>DRY</td>\n",
       "      <td>DESERT</td>\n",
       "      <td>WINDY</td>\n",
       "      <td>10</td>\n",
       "      <td>20</td>\n",
       "      <td>9.5</td>\n",
       "    </tr>\n",
       "    <tr>\n",
       "      <th>3</th>\n",
       "      <td>DRY</td>\n",
       "      <td>DESERT</td>\n",
       "      <td>RAINY</td>\n",
       "      <td>10</td>\n",
       "      <td>20</td>\n",
       "      <td>0.5</td>\n",
       "    </tr>\n",
       "    <tr>\n",
       "      <th>4</th>\n",
       "      <td>DRY</td>\n",
       "      <td>DESERT</td>\n",
       "      <td>NORMAL</td>\n",
       "      <td>20</td>\n",
       "      <td>30</td>\n",
       "      <td>9.5</td>\n",
       "    </tr>\n",
       "  </tbody>\n",
       "</table>\n",
       "</div>"
      ],
      "text/plain": [
       "  SOIL TYPE  REGION WEATHER CONDITION  TEMP_MIN  TEMP_MAX  WATER REQUIREMENT\n",
       "0       DRY  DESERT            NORMAL        10        20                8.5\n",
       "1       DRY  DESERT             SUNNY        10        20               10.0\n",
       "2       DRY  DESERT             WINDY        10        20                9.5\n",
       "3       DRY  DESERT             RAINY        10        20                0.5\n",
       "4       DRY  DESERT            NORMAL        20        30                9.5"
      ]
     },
     "execution_count": 12,
     "metadata": {},
     "output_type": "execute_result"
    }
   ],
   "source": [
    "potato_crop.head()"
   ]
  },
  {
   "cell_type": "code",
   "execution_count": 13,
   "id": "805d4698",
   "metadata": {},
   "outputs": [],
   "source": [
    "X = potato_crop.drop(\"WATER REQUIREMENT\", axis = 1)\n",
    "y = potato_crop[\"WATER REQUIREMENT\"]"
   ]
  },
  {
   "cell_type": "code",
   "execution_count": 14,
   "id": "d98e3390",
   "metadata": {},
   "outputs": [],
   "source": [
    "from sklearn.model_selection import train_test_split\n",
    "X_train, X_test, y_train, y_test = train_test_split(X, y, test_size = 0.2)"
   ]
  },
  {
   "cell_type": "code",
   "execution_count": 15,
   "id": "35861564",
   "metadata": {},
   "outputs": [
    {
     "name": "stderr",
     "output_type": "stream",
     "text": [
      "c:\\Users\\madan\\Documents\\Documents\\Code\\EDP\\ML Models\\Potato Model\\.venv\\Lib\\site-packages\\sklearn\\preprocessing\\_encoders.py:868: FutureWarning: `sparse` was renamed to `sparse_output` in version 1.2 and will be removed in 1.4. `sparse_output` is ignored unless you leave `sparse` to its default value.\n",
      "  warnings.warn(\n"
     ]
    },
    {
     "data": {
      "text/plain": [
       "array([[ 0.,  0.,  1., ...,  1., 20., 30.],\n",
       "       [ 1.,  0.,  0., ...,  0., 40., 50.],\n",
       "       [ 0.,  1.,  0., ...,  0., 10., 20.],\n",
       "       ...,\n",
       "       [ 0.,  1.,  0., ...,  0., 20., 30.],\n",
       "       [ 0.,  1.,  0., ...,  0., 30., 40.],\n",
       "       [ 1.,  0.,  0., ...,  0., 20., 30.]])"
      ]
     },
     "execution_count": 15,
     "metadata": {},
     "output_type": "execute_result"
    }
   ],
   "source": [
    "from sklearn.preprocessing import OneHotEncoder\n",
    "from sklearn.compose import ColumnTransformer\n",
    "\n",
    "one = OneHotEncoder(handle_unknown = \"ignore\", sparse = False)\n",
    "categorical_features = [\"SOIL TYPE\", \"REGION\", \"WEATHER CONDITION\"]\n",
    "transformer = ColumnTransformer([(\"one\", one, categorical_features)], remainder = \"passthrough\")\n",
    "\n",
    "transformed_X_train = transformer.fit_transform(X_train)\n",
    "transformed_X_train"
   ]
  },
  {
   "cell_type": "code",
   "execution_count": 16,
   "id": "52c9ac2b",
   "metadata": {},
   "outputs": [
    {
     "data": {
      "text/plain": [
       "(153, 13)"
      ]
     },
     "execution_count": 16,
     "metadata": {},
     "output_type": "execute_result"
    }
   ],
   "source": [
    "transformed_X_train.shape"
   ]
  },
  {
   "cell_type": "code",
   "execution_count": 17,
   "id": "d5f0f8a8",
   "metadata": {},
   "outputs": [
    {
     "data": {
      "text/plain": [
       "NORMAL    48\n",
       "SUNNY     48\n",
       "WINDY     48\n",
       "RAINY     48\n",
       "Name: WEATHER CONDITION, dtype: int64"
      ]
     },
     "execution_count": 17,
     "metadata": {},
     "output_type": "execute_result"
    }
   ],
   "source": [
    "X[\"WEATHER CONDITION\"].value_counts()"
   ]
  },
  {
   "cell_type": "code",
   "execution_count": 18,
   "id": "e4335d95",
   "metadata": {},
   "outputs": [
    {
     "data": {
      "text/plain": [
       "DRY      64\n",
       "HUMID    64\n",
       "WET      64\n",
       "Name: SOIL TYPE, dtype: int64"
      ]
     },
     "execution_count": 18,
     "metadata": {},
     "output_type": "execute_result"
    }
   ],
   "source": [
    "X[\"SOIL TYPE\"].value_counts()"
   ]
  },
  {
   "cell_type": "code",
   "execution_count": 19,
   "id": "ab994477",
   "metadata": {},
   "outputs": [
    {
     "data": {
      "text/plain": [
       "DESERT        48\n",
       "SEMI ARID     48\n",
       "SEMI HUMID    48\n",
       "HUMID         48\n",
       "Name: REGION, dtype: int64"
      ]
     },
     "execution_count": 19,
     "metadata": {},
     "output_type": "execute_result"
    }
   ],
   "source": [
    "X[\"REGION\"].value_counts()"
   ]
  },
  {
   "cell_type": "code",
   "execution_count": 20,
   "id": "acb39683",
   "metadata": {},
   "outputs": [
    {
     "data": {
      "text/plain": [
       "array([[ 0.,  1.,  0.,  1.,  0.,  0.,  0.,  0.,  0.,  1.,  0., 10., 20.],\n",
       "       [ 1.,  0.,  0.,  0.,  0.,  0.,  1.,  0.,  0.,  0.,  1., 20., 30.],\n",
       "       [ 0.,  0.,  1.,  0.,  0.,  1.,  0.,  0.,  0.,  0.,  1., 20., 30.],\n",
       "       [ 0.,  0.,  1.,  0.,  1.,  0.,  0.,  1.,  0.,  0.,  0., 30., 40.],\n",
       "       [ 0.,  1.,  0.,  1.,  0.,  0.,  0.,  1.,  0.,  0.,  0., 40., 50.],\n",
       "       [ 1.,  0.,  0.,  1.,  0.,  0.,  0.,  0.,  1.,  0.,  0., 20., 30.],\n",
       "       [ 0.,  0.,  1.,  1.,  0.,  0.,  0.,  0.,  0.,  1.,  0., 40., 50.],\n",
       "       [ 1.,  0.,  0.,  0.,  0.,  1.,  0.,  0.,  0.,  1.,  0., 30., 40.],\n",
       "       [ 0.,  0.,  1.,  0.,  0.,  1.,  0.,  0.,  0.,  1.,  0., 10., 20.],\n",
       "       [ 1.,  0.,  0.,  0.,  0.,  1.,  0.,  0.,  1.,  0.,  0., 10., 20.],\n",
       "       [ 0.,  1.,  0.,  0.,  0.,  0.,  1.,  1.,  0.,  0.,  0., 10., 20.],\n",
       "       [ 0.,  1.,  0.,  1.,  0.,  0.,  0.,  1.,  0.,  0.,  0., 20., 30.],\n",
       "       [ 1.,  0.,  0.,  0.,  0.,  0.,  1.,  1.,  0.,  0.,  0., 30., 40.],\n",
       "       [ 0.,  0.,  1.,  0.,  1.,  0.,  0.,  0.,  0.,  1.,  0., 30., 40.],\n",
       "       [ 1.,  0.,  0.,  0.,  0.,  1.,  0.,  0.,  1.,  0.,  0., 30., 40.],\n",
       "       [ 1.,  0.,  0.,  0.,  1.,  0.,  0.,  0.,  1.,  0.,  0., 40., 50.],\n",
       "       [ 0.,  0.,  1.,  0.,  0.,  1.,  0.,  0.,  0.,  0.,  1., 30., 40.],\n",
       "       [ 0.,  1.,  0.,  0.,  0.,  0.,  1.,  0.,  0.,  1.,  0., 30., 40.],\n",
       "       [ 0.,  0.,  1.,  0.,  1.,  0.,  0.,  1.,  0.,  0.,  0., 20., 30.],\n",
       "       [ 0.,  1.,  0.,  0.,  0.,  1.,  0.,  0.,  0.,  1.,  0., 10., 20.],\n",
       "       [ 0.,  1.,  0.,  1.,  0.,  0.,  0.,  0.,  0.,  1.,  0., 40., 50.],\n",
       "       [ 1.,  0.,  0.,  0.,  0.,  1.,  0.,  0.,  0.,  0.,  1., 20., 30.],\n",
       "       [ 0.,  0.,  1.,  1.,  0.,  0.,  0.,  0.,  1.,  0.,  0., 10., 20.],\n",
       "       [ 0.,  0.,  1.,  0.,  0.,  1.,  0.,  0.,  0.,  0.,  1., 10., 20.],\n",
       "       [ 0.,  0.,  1.,  0.,  1.,  0.,  0.,  0.,  1.,  0.,  0., 20., 30.],\n",
       "       [ 0.,  0.,  1.,  0.,  0.,  0.,  1.,  0.,  0.,  0.,  1., 30., 40.],\n",
       "       [ 1.,  0.,  0.,  1.,  0.,  0.,  0.,  0.,  1.,  0.,  0., 30., 40.],\n",
       "       [ 0.,  0.,  1.,  0.,  0.,  0.,  1.,  0.,  0.,  0.,  1., 40., 50.],\n",
       "       [ 0.,  1.,  0.,  0.,  0.,  1.,  0.,  0.,  1.,  0.,  0., 40., 50.],\n",
       "       [ 1.,  0.,  0.,  1.,  0.,  0.,  0.,  0.,  1.,  0.,  0., 10., 20.],\n",
       "       [ 1.,  0.,  0.,  0.,  1.,  0.,  0.,  1.,  0.,  0.,  0., 40., 50.],\n",
       "       [ 0.,  1.,  0.,  1.,  0.,  0.,  0.,  0.,  0.,  0.,  1., 30., 40.],\n",
       "       [ 0.,  1.,  0.,  0.,  0.,  1.,  0.,  0.,  1.,  0.,  0., 10., 20.],\n",
       "       [ 0.,  0.,  1.,  0.,  0.,  0.,  1.,  0.,  0.,  1.,  0., 30., 40.],\n",
       "       [ 1.,  0.,  0.,  0.,  0.,  1.,  0.,  0.,  0.,  1.,  0., 10., 20.],\n",
       "       [ 0.,  1.,  0.,  0.,  0.,  0.,  1.,  1.,  0.,  0.,  0., 40., 50.],\n",
       "       [ 1.,  0.,  0.,  0.,  1.,  0.,  0.,  1.,  0.,  0.,  0., 20., 30.],\n",
       "       [ 0.,  0.,  1.,  0.,  0.,  1.,  0.,  1.,  0.,  0.,  0., 40., 50.],\n",
       "       [ 0.,  0.,  1.,  0.,  0.,  0.,  1.,  0.,  0.,  0.,  1., 20., 30.]])"
      ]
     },
     "execution_count": 20,
     "metadata": {},
     "output_type": "execute_result"
    }
   ],
   "source": [
    "transformed_X_test = transformer.transform(X_test)\n",
    "transformed_X_test"
   ]
  },
  {
   "cell_type": "code",
   "execution_count": 21,
   "id": "d3f3bca4",
   "metadata": {},
   "outputs": [
    {
     "data": {
      "text/plain": [
       "(39, 13)"
      ]
     },
     "execution_count": 21,
     "metadata": {},
     "output_type": "execute_result"
    }
   ],
   "source": [
    "transformed_X_test.shape"
   ]
  },
  {
   "cell_type": "code",
   "execution_count": 22,
   "id": "5b57323a",
   "metadata": {},
   "outputs": [
    {
     "data": {
      "text/plain": [
       "95.58201417137803"
      ]
     },
     "execution_count": 22,
     "metadata": {},
     "output_type": "execute_result"
    }
   ],
   "source": [
    "from sklearn.ensemble import RandomForestRegressor\n",
    "model = RandomForestRegressor()\n",
    "model.fit(transformed_X_train, y_train)\n",
    "model.score(transformed_X_test, y_test)*100"
   ]
  },
  {
   "cell_type": "code",
   "execution_count": 23,
   "id": "e45ad93e",
   "metadata": {},
   "outputs": [
    {
     "data": {
      "text/plain": [
       "array([ 7.6749 ,  8.677  ,  6.51455,  5.0328 ,  8.754  ,  1.0205 ,\n",
       "        8.79   , 11.061  ,  5.97815,  0.4685 ,  5.2804 ,  7.0705 ,\n",
       "        9.6645 ,  6.172  ,  0.8865 ,  2.5155 ,  7.9225 ,  8.0309 ,\n",
       "        3.9801 ,  6.82655, 10.1202 ,  9.5635 ,  0.4005 ,  5.44675,\n",
       "        0.211  ,  7.45945,  1.117  ,  8.077  ,  0.9395 ,  0.7625 ,\n",
       "        9.1945 ,  9.464  ,  0.299  ,  7.5629 ,  8.989  ,  7.1081 ,\n",
       "        7.2815 ,  7.4885 ,  5.5738 ])"
      ]
     },
     "execution_count": 23,
     "metadata": {},
     "output_type": "execute_result"
    }
   ],
   "source": [
    "y_preds = model.predict(transformed_X_test)\n",
    "y_preds"
   ]
  },
  {
   "cell_type": "code",
   "execution_count": 24,
   "id": "56f932ba",
   "metadata": {},
   "outputs": [
    {
     "data": {
      "text/plain": [
       "0.48433404416666587"
      ]
     },
     "execution_count": 24,
     "metadata": {},
     "output_type": "execute_result"
    }
   ],
   "source": [
    "from sklearn.metrics import mean_squared_error\n",
    "mse = mean_squared_error(y_test, y_preds)\n",
    "mse"
   ]
  },
  {
   "cell_type": "code",
   "execution_count": 25,
   "id": "663bc882",
   "metadata": {},
   "outputs": [
    {
     "data": {
      "text/plain": [
       "0.5487192307692303"
      ]
     },
     "execution_count": 25,
     "metadata": {},
     "output_type": "execute_result"
    }
   ],
   "source": [
    "from sklearn.metrics import mean_absolute_error\n",
    "mae = mean_absolute_error(y_test, y_preds)\n",
    "mae"
   ]
  },
  {
   "cell_type": "code",
   "execution_count": 26,
   "id": "8d96d313",
   "metadata": {},
   "outputs": [
    {
     "data": {
      "text/plain": [
       "0.9558201417137804"
      ]
     },
     "execution_count": 26,
     "metadata": {},
     "output_type": "execute_result"
    }
   ],
   "source": [
    "from sklearn.metrics import r2_score\n",
    "score = r2_score(y_test, y_preds)\n",
    "score"
   ]
  },
  {
   "cell_type": "code",
   "execution_count": 27,
   "id": "e6ec8330",
   "metadata": {},
   "outputs": [
    {
     "data": {
      "text/plain": [
       "0.9328466154049462"
      ]
     },
     "execution_count": 27,
     "metadata": {},
     "output_type": "execute_result"
    }
   ],
   "source": [
    "adjusted_r2 = 1 - (1-score)*(len(y_test)-1)/(len(y_test)-transformed_X_test.shape[1]-1)\n",
    "adjusted_r2"
   ]
  },
  {
   "cell_type": "code",
   "execution_count": 28,
   "id": "a1531c23",
   "metadata": {},
   "outputs": [
    {
     "data": {
      "text/plain": [
       "0.934096491355056"
      ]
     },
     "execution_count": 28,
     "metadata": {},
     "output_type": "execute_result"
    }
   ],
   "source": [
    "## with linear regression\n",
    "from sklearn.linear_model import Ridge\n",
    "\n",
    "ridgeModel = Ridge()\n",
    "ridgeModel.fit(transformed_X_train, y_train)\n",
    "ridgeModel.score(transformed_X_test, y_test)"
   ]
  },
  {
   "cell_type": "code",
   "execution_count": 29,
   "id": "b00aa583",
   "metadata": {},
   "outputs": [
    {
     "data": {
      "text/plain": [
       "3.263092845749571"
      ]
     },
     "execution_count": 29,
     "metadata": {},
     "output_type": "execute_result"
    }
   ],
   "source": [
    "## with SVM\n",
    "from sklearn.svm import SVR\n",
    "svmModel = SVR()\n",
    "svmModel.fit(transformed_X_train, y_train)\n",
    "svmModel.score(transformed_X_test, y_test)*100"
   ]
  },
  {
   "cell_type": "code",
   "execution_count": 30,
   "id": "02115a11",
   "metadata": {},
   "outputs": [
    {
     "data": {
      "text/plain": [
       "0.10070019264453867"
      ]
     },
     "execution_count": 30,
     "metadata": {},
     "output_type": "execute_result"
    }
   ],
   "source": [
    "## with nuSVM\n",
    "from sklearn.svm import NuSVR\n",
    "nuSVMModel = NuSVR()\n",
    "nuSVMModel.fit(transformed_X_train, y_train)\n",
    "nuSVMModel.score(transformed_X_test, y_test)"
   ]
  },
  {
   "cell_type": "code",
   "execution_count": 31,
   "id": "319aeb9c",
   "metadata": {},
   "outputs": [
    {
     "data": {
      "text/html": [
       "<div>\n",
       "<style scoped>\n",
       "    .dataframe tbody tr th:only-of-type {\n",
       "        vertical-align: middle;\n",
       "    }\n",
       "\n",
       "    .dataframe tbody tr th {\n",
       "        vertical-align: top;\n",
       "    }\n",
       "\n",
       "    .dataframe thead th {\n",
       "        text-align: right;\n",
       "    }\n",
       "</style>\n",
       "<table border=\"1\" class=\"dataframe\">\n",
       "  <thead>\n",
       "    <tr style=\"text-align: right;\">\n",
       "      <th></th>\n",
       "      <th>SOIL TYPE</th>\n",
       "      <th>REGION</th>\n",
       "      <th>WEATHER CONDITION</th>\n",
       "      <th>TEMP_MIN</th>\n",
       "      <th>TEMP_MAX</th>\n",
       "    </tr>\n",
       "  </thead>\n",
       "  <tbody>\n",
       "    <tr>\n",
       "      <th>0</th>\n",
       "      <td>DRY</td>\n",
       "      <td>DESERT</td>\n",
       "      <td>NORMAL</td>\n",
       "      <td>10</td>\n",
       "      <td>20</td>\n",
       "    </tr>\n",
       "    <tr>\n",
       "      <th>1</th>\n",
       "      <td>DRY</td>\n",
       "      <td>DESERT</td>\n",
       "      <td>SUNNY</td>\n",
       "      <td>10</td>\n",
       "      <td>20</td>\n",
       "    </tr>\n",
       "    <tr>\n",
       "      <th>2</th>\n",
       "      <td>DRY</td>\n",
       "      <td>DESERT</td>\n",
       "      <td>WINDY</td>\n",
       "      <td>10</td>\n",
       "      <td>20</td>\n",
       "    </tr>\n",
       "    <tr>\n",
       "      <th>3</th>\n",
       "      <td>DRY</td>\n",
       "      <td>DESERT</td>\n",
       "      <td>RAINY</td>\n",
       "      <td>10</td>\n",
       "      <td>20</td>\n",
       "    </tr>\n",
       "    <tr>\n",
       "      <th>4</th>\n",
       "      <td>DRY</td>\n",
       "      <td>DESERT</td>\n",
       "      <td>NORMAL</td>\n",
       "      <td>20</td>\n",
       "      <td>30</td>\n",
       "    </tr>\n",
       "  </tbody>\n",
       "</table>\n",
       "</div>"
      ],
      "text/plain": [
       "  SOIL TYPE  REGION WEATHER CONDITION  TEMP_MIN  TEMP_MAX\n",
       "0       DRY  DESERT            NORMAL        10        20\n",
       "1       DRY  DESERT             SUNNY        10        20\n",
       "2       DRY  DESERT             WINDY        10        20\n",
       "3       DRY  DESERT             RAINY        10        20\n",
       "4       DRY  DESERT            NORMAL        20        30"
      ]
     },
     "execution_count": 31,
     "metadata": {},
     "output_type": "execute_result"
    }
   ],
   "source": [
    "X.head()"
   ]
  },
  {
   "cell_type": "code",
   "execution_count": 32,
   "id": "e1ed4e4c",
   "metadata": {},
   "outputs": [
    {
     "data": {
      "text/plain": [
       "SOIL TYPE  REGION      WEATHER CONDITION  TEMP_MIN  TEMP_MAX\n",
       "DRY        DESERT      NORMAL             10        20          1\n",
       "                                          20        30          1\n",
       "HUMID      SEMI HUMID  SUNNY              30        40          1\n",
       "                                          40        50          1\n",
       "                       WINDY              10        20          1\n",
       "                                                               ..\n",
       "           DESERT      NORMAL             30        40          1\n",
       "                                          40        50          1\n",
       "                       RAINY              10        20          1\n",
       "                                          20        30          1\n",
       "WET        SEMI HUMID  WINDY              40        50          1\n",
       "Length: 192, dtype: int64"
      ]
     },
     "execution_count": 32,
     "metadata": {},
     "output_type": "execute_result"
    }
   ],
   "source": [
    "X.value_counts()"
   ]
  },
  {
   "cell_type": "code",
   "execution_count": 33,
   "id": "7e0ceff8",
   "metadata": {},
   "outputs": [],
   "source": [
    "temp = [\"DRY\", \"DESERT\", \"WINDY\", 35, 55]"
   ]
  },
  {
   "cell_type": "code",
   "execution_count": 34,
   "id": "ad28b0a9",
   "metadata": {},
   "outputs": [
    {
     "data": {
      "text/plain": [
       "array(['DRY', 'DESERT', 'WINDY', '35', '55'], dtype='<U11')"
      ]
     },
     "execution_count": 34,
     "metadata": {},
     "output_type": "execute_result"
    }
   ],
   "source": [
    "temp = np.array(temp)\n",
    "temp"
   ]
  },
  {
   "cell_type": "code",
   "execution_count": 35,
   "id": "7a3acb2d",
   "metadata": {},
   "outputs": [
    {
     "data": {
      "text/plain": [
       "(1, 5)"
      ]
     },
     "execution_count": 35,
     "metadata": {},
     "output_type": "execute_result"
    }
   ],
   "source": [
    "temp = temp.reshape(1, -1)\n",
    "temp.shape"
   ]
  },
  {
   "cell_type": "code",
   "execution_count": 36,
   "id": "f17e262b",
   "metadata": {},
   "outputs": [
    {
     "data": {
      "text/html": [
       "<div>\n",
       "<style scoped>\n",
       "    .dataframe tbody tr th:only-of-type {\n",
       "        vertical-align: middle;\n",
       "    }\n",
       "\n",
       "    .dataframe tbody tr th {\n",
       "        vertical-align: top;\n",
       "    }\n",
       "\n",
       "    .dataframe thead th {\n",
       "        text-align: right;\n",
       "    }\n",
       "</style>\n",
       "<table border=\"1\" class=\"dataframe\">\n",
       "  <thead>\n",
       "    <tr style=\"text-align: right;\">\n",
       "      <th></th>\n",
       "      <th>SOIL TYPE</th>\n",
       "      <th>REGION</th>\n",
       "      <th>WEATHER CONDITION</th>\n",
       "      <th>TEMP_MIN</th>\n",
       "      <th>TEMP_MAX</th>\n",
       "    </tr>\n",
       "  </thead>\n",
       "  <tbody>\n",
       "    <tr>\n",
       "      <th>0</th>\n",
       "      <td>DRY</td>\n",
       "      <td>DESERT</td>\n",
       "      <td>WINDY</td>\n",
       "      <td>35</td>\n",
       "      <td>55</td>\n",
       "    </tr>\n",
       "  </tbody>\n",
       "</table>\n",
       "</div>"
      ],
      "text/plain": [
       "  SOIL TYPE  REGION WEATHER CONDITION TEMP_MIN TEMP_MAX\n",
       "0       DRY  DESERT             WINDY       35       55"
      ]
     },
     "execution_count": 36,
     "metadata": {},
     "output_type": "execute_result"
    }
   ],
   "source": [
    "temp_df = pd.DataFrame(temp, columns = X.columns )\n",
    "temp_df"
   ]
  },
  {
   "cell_type": "code",
   "execution_count": 37,
   "id": "46270b6a",
   "metadata": {},
   "outputs": [
    {
     "data": {
      "text/plain": [
       "(1, 13)"
      ]
     },
     "execution_count": 37,
     "metadata": {},
     "output_type": "execute_result"
    }
   ],
   "source": [
    "transformed_temp = transformer.transform(temp_df)\n",
    "transformed_temp.shape"
   ]
  },
  {
   "cell_type": "code",
   "execution_count": 38,
   "id": "54c882c4",
   "metadata": {},
   "outputs": [
    {
     "data": {
      "text/plain": [
       "Index(['SOIL TYPE', 'REGION', 'WEATHER CONDITION', 'TEMP_MIN', 'TEMP_MAX'], dtype='object')"
      ]
     },
     "execution_count": 38,
     "metadata": {},
     "output_type": "execute_result"
    }
   ],
   "source": [
    "X.columns"
   ]
  },
  {
   "cell_type": "code",
   "execution_count": 39,
   "id": "d213c7d4",
   "metadata": {},
   "outputs": [
    {
     "data": {
      "text/plain": [
       "array([12.059])"
      ]
     },
     "execution_count": 39,
     "metadata": {},
     "output_type": "execute_result"
    }
   ],
   "source": [
    "temp_preds = model.predict(transformed_temp)\n",
    "temp_preds"
   ]
  },
  {
   "cell_type": "code",
   "execution_count": 40,
   "id": "a17c25c3",
   "metadata": {},
   "outputs": [],
   "source": [
    "## pickling \n",
    "import pickle"
   ]
  },
  {
   "cell_type": "code",
   "execution_count": 41,
   "id": "34d2742a",
   "metadata": {},
   "outputs": [],
   "source": [
    "pickle.dump(model, open(\"potato_model.pkl\", \"wb\"))"
   ]
  },
  {
   "cell_type": "code",
   "execution_count": 42,
   "id": "b0b66ec3",
   "metadata": {},
   "outputs": [],
   "source": [
    "pickle.dump(transformer, open(\"potato_tranformer.pkl\", \"wb\"))"
   ]
  },
  {
   "cell_type": "code",
   "execution_count": 43,
   "id": "269f18d0",
   "metadata": {},
   "outputs": [],
   "source": [
    "pickle.dump(X.columns, open(\"crop_columns.pkl\", \"wb\"))"
   ]
  },
  {
   "cell_type": "code",
   "execution_count": 44,
   "id": "ee392565",
   "metadata": {},
   "outputs": [
    {
     "data": {
      "text/plain": [
       "['potato_transformer.joblib']"
      ]
     },
     "execution_count": 44,
     "metadata": {},
     "output_type": "execute_result"
    }
   ],
   "source": [
    "from joblib import dump, load\n",
    "dump(transformer, filename = \"potato_transformer.joblib\")"
   ]
  },
  {
   "cell_type": "code",
   "execution_count": 45,
   "id": "b0be02fb",
   "metadata": {},
   "outputs": [],
   "source": [
    "tranformer_test = load(filename = \"potato_transformer.joblib\")\n"
   ]
  },
  {
   "cell_type": "code",
   "execution_count": 46,
   "id": "8a9b1f70",
   "metadata": {},
   "outputs": [],
   "source": [
    "## old ways\n",
    "from sklearn.preprocessing import OneHotEncoder\n",
    "one = OneHotEncoder(handle_unknown = \"ignore\", sparse = False)"
   ]
  },
  {
   "cell_type": "code",
   "execution_count": 47,
   "id": "d80de0c2",
   "metadata": {},
   "outputs": [
    {
     "data": {
      "text/html": [
       "<div>\n",
       "<style scoped>\n",
       "    .dataframe tbody tr th:only-of-type {\n",
       "        vertical-align: middle;\n",
       "    }\n",
       "\n",
       "    .dataframe tbody tr th {\n",
       "        vertical-align: top;\n",
       "    }\n",
       "\n",
       "    .dataframe thead th {\n",
       "        text-align: right;\n",
       "    }\n",
       "</style>\n",
       "<table border=\"1\" class=\"dataframe\">\n",
       "  <thead>\n",
       "    <tr style=\"text-align: right;\">\n",
       "      <th></th>\n",
       "      <th>SOIL TYPE</th>\n",
       "      <th>REGION</th>\n",
       "      <th>WEATHER CONDITION</th>\n",
       "    </tr>\n",
       "  </thead>\n",
       "  <tbody>\n",
       "    <tr>\n",
       "      <th>0</th>\n",
       "      <td>DRY</td>\n",
       "      <td>DESERT</td>\n",
       "      <td>NORMAL</td>\n",
       "    </tr>\n",
       "    <tr>\n",
       "      <th>1</th>\n",
       "      <td>DRY</td>\n",
       "      <td>DESERT</td>\n",
       "      <td>SUNNY</td>\n",
       "    </tr>\n",
       "    <tr>\n",
       "      <th>2</th>\n",
       "      <td>DRY</td>\n",
       "      <td>DESERT</td>\n",
       "      <td>WINDY</td>\n",
       "    </tr>\n",
       "    <tr>\n",
       "      <th>3</th>\n",
       "      <td>DRY</td>\n",
       "      <td>DESERT</td>\n",
       "      <td>RAINY</td>\n",
       "    </tr>\n",
       "    <tr>\n",
       "      <th>4</th>\n",
       "      <td>DRY</td>\n",
       "      <td>DESERT</td>\n",
       "      <td>NORMAL</td>\n",
       "    </tr>\n",
       "    <tr>\n",
       "      <th>...</th>\n",
       "      <td>...</td>\n",
       "      <td>...</td>\n",
       "      <td>...</td>\n",
       "    </tr>\n",
       "    <tr>\n",
       "      <th>187</th>\n",
       "      <td>WET</td>\n",
       "      <td>HUMID</td>\n",
       "      <td>RAINY</td>\n",
       "    </tr>\n",
       "    <tr>\n",
       "      <th>188</th>\n",
       "      <td>WET</td>\n",
       "      <td>HUMID</td>\n",
       "      <td>NORMAL</td>\n",
       "    </tr>\n",
       "    <tr>\n",
       "      <th>189</th>\n",
       "      <td>WET</td>\n",
       "      <td>HUMID</td>\n",
       "      <td>SUNNY</td>\n",
       "    </tr>\n",
       "    <tr>\n",
       "      <th>190</th>\n",
       "      <td>WET</td>\n",
       "      <td>HUMID</td>\n",
       "      <td>WINDY</td>\n",
       "    </tr>\n",
       "    <tr>\n",
       "      <th>191</th>\n",
       "      <td>WET</td>\n",
       "      <td>HUMID</td>\n",
       "      <td>RAINY</td>\n",
       "    </tr>\n",
       "  </tbody>\n",
       "</table>\n",
       "<p>192 rows × 3 columns</p>\n",
       "</div>"
      ],
      "text/plain": [
       "    SOIL TYPE  REGION WEATHER CONDITION\n",
       "0         DRY  DESERT            NORMAL\n",
       "1         DRY  DESERT             SUNNY\n",
       "2         DRY  DESERT             WINDY\n",
       "3         DRY  DESERT             RAINY\n",
       "4         DRY  DESERT            NORMAL\n",
       "..        ...     ...               ...\n",
       "187       WET   HUMID             RAINY\n",
       "188       WET   HUMID            NORMAL\n",
       "189       WET   HUMID             SUNNY\n",
       "190       WET   HUMID             WINDY\n",
       "191       WET   HUMID             RAINY\n",
       "\n",
       "[192 rows x 3 columns]"
      ]
     },
     "execution_count": 47,
     "metadata": {},
     "output_type": "execute_result"
    }
   ],
   "source": [
    "X_new = X[[\"SOIL TYPE\", \"REGION\", \"WEATHER CONDITION\"]]\n",
    "X_new"
   ]
  },
  {
   "cell_type": "code",
   "execution_count": 48,
   "id": "5e3af1f5",
   "metadata": {},
   "outputs": [
    {
     "name": "stderr",
     "output_type": "stream",
     "text": [
      "c:\\Users\\madan\\Documents\\Documents\\Code\\EDP\\ML Models\\Potato Model\\.venv\\Lib\\site-packages\\sklearn\\preprocessing\\_encoders.py:868: FutureWarning: `sparse` was renamed to `sparse_output` in version 1.2 and will be removed in 1.4. `sparse_output` is ignored unless you leave `sparse` to its default value.\n",
      "  warnings.warn(\n"
     ]
    },
    {
     "data": {
      "text/html": [
       "<style>#sk-container-id-1 {color: black;background-color: white;}#sk-container-id-1 pre{padding: 0;}#sk-container-id-1 div.sk-toggleable {background-color: white;}#sk-container-id-1 label.sk-toggleable__label {cursor: pointer;display: block;width: 100%;margin-bottom: 0;padding: 0.3em;box-sizing: border-box;text-align: center;}#sk-container-id-1 label.sk-toggleable__label-arrow:before {content: \"▸\";float: left;margin-right: 0.25em;color: #696969;}#sk-container-id-1 label.sk-toggleable__label-arrow:hover:before {color: black;}#sk-container-id-1 div.sk-estimator:hover label.sk-toggleable__label-arrow:before {color: black;}#sk-container-id-1 div.sk-toggleable__content {max-height: 0;max-width: 0;overflow: hidden;text-align: left;background-color: #f0f8ff;}#sk-container-id-1 div.sk-toggleable__content pre {margin: 0.2em;color: black;border-radius: 0.25em;background-color: #f0f8ff;}#sk-container-id-1 input.sk-toggleable__control:checked~div.sk-toggleable__content {max-height: 200px;max-width: 100%;overflow: auto;}#sk-container-id-1 input.sk-toggleable__control:checked~label.sk-toggleable__label-arrow:before {content: \"▾\";}#sk-container-id-1 div.sk-estimator input.sk-toggleable__control:checked~label.sk-toggleable__label {background-color: #d4ebff;}#sk-container-id-1 div.sk-label input.sk-toggleable__control:checked~label.sk-toggleable__label {background-color: #d4ebff;}#sk-container-id-1 input.sk-hidden--visually {border: 0;clip: rect(1px 1px 1px 1px);clip: rect(1px, 1px, 1px, 1px);height: 1px;margin: -1px;overflow: hidden;padding: 0;position: absolute;width: 1px;}#sk-container-id-1 div.sk-estimator {font-family: monospace;background-color: #f0f8ff;border: 1px dotted black;border-radius: 0.25em;box-sizing: border-box;margin-bottom: 0.5em;}#sk-container-id-1 div.sk-estimator:hover {background-color: #d4ebff;}#sk-container-id-1 div.sk-parallel-item::after {content: \"\";width: 100%;border-bottom: 1px solid gray;flex-grow: 1;}#sk-container-id-1 div.sk-label:hover label.sk-toggleable__label {background-color: #d4ebff;}#sk-container-id-1 div.sk-serial::before {content: \"\";position: absolute;border-left: 1px solid gray;box-sizing: border-box;top: 0;bottom: 0;left: 50%;z-index: 0;}#sk-container-id-1 div.sk-serial {display: flex;flex-direction: column;align-items: center;background-color: white;padding-right: 0.2em;padding-left: 0.2em;position: relative;}#sk-container-id-1 div.sk-item {position: relative;z-index: 1;}#sk-container-id-1 div.sk-parallel {display: flex;align-items: stretch;justify-content: center;background-color: white;position: relative;}#sk-container-id-1 div.sk-item::before, #sk-container-id-1 div.sk-parallel-item::before {content: \"\";position: absolute;border-left: 1px solid gray;box-sizing: border-box;top: 0;bottom: 0;left: 50%;z-index: -1;}#sk-container-id-1 div.sk-parallel-item {display: flex;flex-direction: column;z-index: 1;position: relative;background-color: white;}#sk-container-id-1 div.sk-parallel-item:first-child::after {align-self: flex-end;width: 50%;}#sk-container-id-1 div.sk-parallel-item:last-child::after {align-self: flex-start;width: 50%;}#sk-container-id-1 div.sk-parallel-item:only-child::after {width: 0;}#sk-container-id-1 div.sk-dashed-wrapped {border: 1px dashed gray;margin: 0 0.4em 0.5em 0.4em;box-sizing: border-box;padding-bottom: 0.4em;background-color: white;}#sk-container-id-1 div.sk-label label {font-family: monospace;font-weight: bold;display: inline-block;line-height: 1.2em;}#sk-container-id-1 div.sk-label-container {text-align: center;}#sk-container-id-1 div.sk-container {/* jupyter's `normalize.less` sets `[hidden] { display: none; }` but bootstrap.min.css set `[hidden] { display: none !important; }` so we also need the `!important` here to be able to override the default hidden behavior on the sphinx rendered scikit-learn.org. See: https://github.com/scikit-learn/scikit-learn/issues/21755 */display: inline-block !important;position: relative;}#sk-container-id-1 div.sk-text-repr-fallback {display: none;}</style><div id=\"sk-container-id-1\" class=\"sk-top-container\"><div class=\"sk-text-repr-fallback\"><pre>OneHotEncoder(handle_unknown=&#x27;ignore&#x27;, sparse=False, sparse_output=False)</pre><b>In a Jupyter environment, please rerun this cell to show the HTML representation or trust the notebook. <br />On GitHub, the HTML representation is unable to render, please try loading this page with nbviewer.org.</b></div><div class=\"sk-container\" hidden><div class=\"sk-item\"><div class=\"sk-estimator sk-toggleable\"><input class=\"sk-toggleable__control sk-hidden--visually\" id=\"sk-estimator-id-1\" type=\"checkbox\" checked><label for=\"sk-estimator-id-1\" class=\"sk-toggleable__label sk-toggleable__label-arrow\">OneHotEncoder</label><div class=\"sk-toggleable__content\"><pre>OneHotEncoder(handle_unknown=&#x27;ignore&#x27;, sparse=False, sparse_output=False)</pre></div></div></div></div></div>"
      ],
      "text/plain": [
       "OneHotEncoder(handle_unknown='ignore', sparse=False, sparse_output=False)"
      ]
     },
     "execution_count": 48,
     "metadata": {},
     "output_type": "execute_result"
    }
   ],
   "source": [
    "one.fit(X_new)"
   ]
  },
  {
   "cell_type": "code",
   "execution_count": 49,
   "id": "d85f7dad",
   "metadata": {},
   "outputs": [
    {
     "data": {
      "text/plain": [
       "array([[1., 0., 0., ..., 0., 0., 0.],\n",
       "       [1., 0., 0., ..., 0., 1., 0.],\n",
       "       [1., 0., 0., ..., 0., 0., 1.],\n",
       "       ...,\n",
       "       [0., 0., 1., ..., 0., 1., 0.],\n",
       "       [0., 0., 1., ..., 0., 0., 1.],\n",
       "       [0., 0., 1., ..., 1., 0., 0.]])"
      ]
     },
     "execution_count": 49,
     "metadata": {},
     "output_type": "execute_result"
    }
   ],
   "source": [
    "X_new_trans = one.transform(X_new)\n",
    "X_new_trans"
   ]
  },
  {
   "cell_type": "code",
   "execution_count": 50,
   "id": "fd8bc03b",
   "metadata": {},
   "outputs": [
    {
     "data": {
      "text/plain": [
       "(192, 11)"
      ]
     },
     "execution_count": 50,
     "metadata": {},
     "output_type": "execute_result"
    }
   ],
   "source": [
    "X_new_trans.shape"
   ]
  },
  {
   "cell_type": "code",
   "execution_count": 51,
   "id": "66d4beb3",
   "metadata": {},
   "outputs": [
    {
     "data": {
      "text/plain": [
       "'1.2.2'"
      ]
     },
     "execution_count": 51,
     "metadata": {},
     "output_type": "execute_result"
    }
   ],
   "source": [
    "import sklearn\n",
    "sklearn.__version__\n"
   ]
  },
  {
   "cell_type": "code",
   "execution_count": 52,
   "id": "9aaf845d",
   "metadata": {},
   "outputs": [
    {
     "data": {
      "text/plain": [
       "'1.5.3'"
      ]
     },
     "execution_count": 52,
     "metadata": {},
     "output_type": "execute_result"
    }
   ],
   "source": [
    "pd.__version__"
   ]
  },
  {
   "cell_type": "code",
   "execution_count": 53,
   "id": "115cfe09",
   "metadata": {},
   "outputs": [
    {
     "data": {
      "text/plain": [
       "'1.24.2'"
      ]
     },
     "execution_count": 53,
     "metadata": {},
     "output_type": "execute_result"
    }
   ],
   "source": [
    "np.__version__"
   ]
  },
  {
   "cell_type": "code",
   "execution_count": 54,
   "id": "e4ac3cb0",
   "metadata": {},
   "outputs": [
    {
     "data": {
      "text/plain": [
       "'1.2.0'"
      ]
     },
     "execution_count": 54,
     "metadata": {},
     "output_type": "execute_result"
    }
   ],
   "source": [
    "import joblib\n",
    "joblib.__version__"
   ]
  },
  {
   "cell_type": "code",
   "execution_count": null,
   "id": "2e93736d",
   "metadata": {},
   "outputs": [],
   "source": []
  }
 ],
 "metadata": {
  "kernelspec": {
   "display_name": "Python 3 (ipykernel)",
   "language": "python",
   "name": "python3"
  },
  "language_info": {
   "codemirror_mode": {
    "name": "ipython",
    "version": 3
   },
   "file_extension": ".py",
   "mimetype": "text/x-python",
   "name": "python",
   "nbconvert_exporter": "python",
   "pygments_lexer": "ipython3",
   "version": "3.11.0"
  }
 },
 "nbformat": 4,
 "nbformat_minor": 5
}
